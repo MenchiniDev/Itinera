{
 "cells": [
  {
   "cell_type": "markdown",
   "metadata": {},
   "source": [
    "<h1> Hotel </h1>\n",
    "\n",
    "Cambio formato data"
   ]
  },
  {
   "cell_type": "code",
   "execution_count": null,
   "metadata": {},
   "outputs": [
    {
     "name": "stdout",
     "output_type": "stream",
     "text": [
      "(Timestamp('2015-08-04 00:00:00'), Timestamp('2017-08-03 00:00:00'))\n"
     ]
    }
   ],
   "source": [
    "import pandas as pd\n",
    "import numpy as np\n",
    "\n",
    "hotel = pd.read_csv(\"original/Hotel_Reviews_Choosen.csv\")\n",
    "#porto il formato della data da stringa a datetime\n",
    "hotel['Review_Date'] = pd.to_datetime(hotel['Review_Date'], errors='coerce')\n",
    "\n",
    "# Calcola il range delle date\n",
    "range_date = (hotel['Review_Date'].min(), hotel['Review_Date'].max())\n",
    "print(range_date)\n",
    "\n",
    "hotel.head()\n",
    "\n",
    "#aggiorno con il nuovo formato\n",
    "hotel.to_csv(\"cleaned/Hotel_Reviews_Updated.csv\", index=False)\n",
    "#from 2015-08-04 to 2017-08-03\n"
   ]
  },
  {
   "cell_type": "markdown",
   "metadata": {},
   "source": [
    "<h1>Musei</h1>"
   ]
  },
  {
   "cell_type": "code",
   "execution_count": null,
   "metadata": {},
   "outputs": [
    {
     "data": {
      "text/html": [
       "<div>\n",
       "<style scoped>\n",
       "    .dataframe tbody tr th:only-of-type {\n",
       "        vertical-align: middle;\n",
       "    }\n",
       "\n",
       "    .dataframe tbody tr th {\n",
       "        vertical-align: top;\n",
       "    }\n",
       "\n",
       "    .dataframe thead th {\n",
       "        text-align: right;\n",
       "    }\n",
       "</style>\n",
       "<table border=\"1\" class=\"dataframe\">\n",
       "  <thead>\n",
       "    <tr style=\"text-align: right;\">\n",
       "      <th></th>\n",
       "      <th>Unnamed: 0</th>\n",
       "      <th>Address</th>\n",
       "      <th>Description</th>\n",
       "      <th>FeatureCount</th>\n",
       "      <th>Fee</th>\n",
       "      <th>Langtitude</th>\n",
       "      <th>Latitude</th>\n",
       "      <th>LengthOfVisit</th>\n",
       "      <th>MuseumName</th>\n",
       "      <th>PhoneNum</th>\n",
       "      <th>Rank</th>\n",
       "      <th>Rating</th>\n",
       "      <th>ReviewCount</th>\n",
       "      <th>TotalThingsToDo</th>\n",
       "    </tr>\n",
       "  </thead>\n",
       "  <tbody>\n",
       "    <tr>\n",
       "      <th>1</th>\n",
       "      <td>1</td>\n",
       "      <td>Great Russell Street, London WC1B 3DG, England...</td>\n",
       "      <td>A museum of the world, for the world. Discover...</td>\n",
       "      <td>6</td>\n",
       "      <td>No</td>\n",
       "      <td>-0.126853</td>\n",
       "      <td>51.517981</td>\n",
       "      <td>2-3 hours</td>\n",
       "      <td>British Museum</td>\n",
       "      <td>+44 (0)20 7323 8299</td>\n",
       "      <td>1</td>\n",
       "      <td>4.5</td>\n",
       "      <td>41,295</td>\n",
       "      <td>1,443</td>\n",
       "    </tr>\n",
       "    <tr>\n",
       "      <th>8</th>\n",
       "      <td>8</td>\n",
       "      <td>Dionysiou Areopagitou 15 | Makriyianni, Athens...</td>\n",
       "      <td>Modern, uptodate building on the foot of the A...</td>\n",
       "      <td>11</td>\n",
       "      <td>Yes</td>\n",
       "      <td>23.729328</td>\n",
       "      <td>37.969416</td>\n",
       "      <td>2-3 hours</td>\n",
       "      <td>Acropolis Museum</td>\n",
       "      <td>30 210 9000900</td>\n",
       "      <td>1</td>\n",
       "      <td>4.5</td>\n",
       "      <td>18,258</td>\n",
       "      <td>324</td>\n",
       "    </tr>\n",
       "    <tr>\n",
       "      <th>11</th>\n",
       "      <td>11</td>\n",
       "      <td>Calle Ruiz de Alarcon 23, 28014 Madrid, Spain</td>\n",
       "      <td>The Prado has one of the largest art collectio...</td>\n",
       "      <td>13</td>\n",
       "      <td>Yes</td>\n",
       "      <td>-3.691318</td>\n",
       "      <td>40.413584</td>\n",
       "      <td>More than 3 hours</td>\n",
       "      <td>Prado National Museum</td>\n",
       "      <td>902107077</td>\n",
       "      <td>1</td>\n",
       "      <td>4.5</td>\n",
       "      <td>31,900</td>\n",
       "      <td>705</td>\n",
       "    </tr>\n",
       "    <tr>\n",
       "      <th>18</th>\n",
       "      <td>18</td>\n",
       "      <td>Cromwell Road | South Kensington, London SW7 2...</td>\n",
       "      <td>The world's greatest museum of art and design....</td>\n",
       "      <td>9</td>\n",
       "      <td>No</td>\n",
       "      <td>-0.182833</td>\n",
       "      <td>51.495081</td>\n",
       "      <td>2-3 hours</td>\n",
       "      <td>V&amp;A - Victoria and Albert Museum</td>\n",
       "      <td>020 7942 2000</td>\n",
       "      <td>3</td>\n",
       "      <td>4.5</td>\n",
       "      <td>18,030</td>\n",
       "      <td>1,443</td>\n",
       "    </tr>\n",
       "    <tr>\n",
       "      <th>20</th>\n",
       "      <td>20</td>\n",
       "      <td>Chambers Street, Edinburgh EH1 1JF, Scotland, ...</td>\n",
       "      <td>Explore the diversity of the natural world, wo...</td>\n",
       "      <td>14</td>\n",
       "      <td>No</td>\n",
       "      <td>-3.188434</td>\n",
       "      <td>55.947690</td>\n",
       "      <td>More than 3 hours</td>\n",
       "      <td>National Museum of Scotland</td>\n",
       "      <td>443001236789</td>\n",
       "      <td>5</td>\n",
       "      <td>4.5</td>\n",
       "      <td>10,641</td>\n",
       "      <td>374</td>\n",
       "    </tr>\n",
       "  </tbody>\n",
       "</table>\n",
       "</div>"
      ],
      "text/plain": [
       "    Unnamed: 0                                            Address  \\\n",
       "1            1  Great Russell Street, London WC1B 3DG, England...   \n",
       "8            8  Dionysiou Areopagitou 15 | Makriyianni, Athens...   \n",
       "11          11      Calle Ruiz de Alarcon 23, 28014 Madrid, Spain   \n",
       "18          18  Cromwell Road | South Kensington, London SW7 2...   \n",
       "20          20  Chambers Street, Edinburgh EH1 1JF, Scotland, ...   \n",
       "\n",
       "                                          Description  FeatureCount   Fee  \\\n",
       "1   A museum of the world, for the world. Discover...             6   No    \n",
       "8   Modern, uptodate building on the foot of the A...            11  Yes    \n",
       "11  The Prado has one of the largest art collectio...            13  Yes    \n",
       "18  The world's greatest museum of art and design....             9   No    \n",
       "20  Explore the diversity of the natural world, wo...            14   No    \n",
       "\n",
       "    Langtitude   Latitude       LengthOfVisit  \\\n",
       "1    -0.126853  51.517981          2-3 hours    \n",
       "8    23.729328  37.969416          2-3 hours    \n",
       "11   -3.691318  40.413584  More than 3 hours    \n",
       "18   -0.182833  51.495081          2-3 hours    \n",
       "20   -3.188434  55.947690  More than 3 hours    \n",
       "\n",
       "                          MuseumName             PhoneNum  Rank  Rating  \\\n",
       "1                     British Museum  +44 (0)20 7323 8299     1     4.5   \n",
       "8                   Acropolis Museum       30 210 9000900     1     4.5   \n",
       "11             Prado National Museum            902107077     1     4.5   \n",
       "18  V&A - Victoria and Albert Museum       020 7942 2000      3     4.5   \n",
       "20       National Museum of Scotland         443001236789     5     4.5   \n",
       "\n",
       "   ReviewCount TotalThingsToDo  \n",
       "1       41,295           1,443  \n",
       "8       18,258             324  \n",
       "11      31,900             705  \n",
       "18      18,030           1,443  \n",
       "20      10,641             374  "
      ]
     },
     "execution_count": 11,
     "metadata": {},
     "output_type": "execute_result"
    }
   ],
   "source": [
    "musei = pd.read_csv(\"original/Musei.csv\")\n",
    "#musei.head()\n",
    "\n",
    "#tengo solo i musei relativi ai luoghi che ci interessano \n",
    "#aggiungo Vatican City\n",
    "# Lista di paesi\n",
    "countries = [\n",
    "    'Italy', 'Spain', 'Portugal', 'Greece', 'Croatia', 'Albania', 'Andorra', \n",
    "    'Bosnia and Herzegovina', 'Gibraltar', 'United Kingdom', 'North Macedonia', \n",
    "    'Malta', 'Montenegro', 'San Marino', 'Serbia', 'Slovenia', 'Turkey', 'Vatican City', 'London'\n",
    "]\n",
    "\n",
    "#qui negli indirizzi trovo England, Scotland, Wales, Northern Ireland\n",
    "#aggiungo agli indirizzi che contengono questi paesi 'United Kingdom'\n",
    "musei['Address'] = musei['Address'].apply(\n",
    "    lambda x: x + ', United Kingdom' if 'England' in x or 'Scotland' in x or 'Wales' in x or 'Northern Ireland' in x else x\n",
    ")\n",
    "\n",
    "countries_regex = '|'.join(countries)\n",
    "musei_ft = musei[musei['Address'].str.contains(countries_regex, case=False, na=False)].copy()\n",
    "musei_ft.to_csv(\"cleaned/Musei_Choosen.csv\", index=False)\n",
    "musei_ft.head()\n",
    "#musei_ft.info()\n",
    "\n"
   ]
  },
  {
   "cell_type": "markdown",
   "metadata": {},
   "source": [
    "<h1>Recensioni musei</h1>"
   ]
  },
  {
   "cell_type": "code",
   "execution_count": 13,
   "metadata": {},
   "outputs": [
    {
     "name": "stdout",
     "output_type": "stream",
     "text": [
      "Numero di musei filtrati: 180\n"
     ]
    }
   ],
   "source": [
    "#prendo le reviews relative solo ai musei che ho tenuto\n",
    "\n",
    "import json\n",
    "\n",
    "with open('original/review_musei.json', 'r') as f:\n",
    "    rece = json.load(f)\n",
    "    \n",
    "musei_presenti = set(musei_ft['MuseumName'].unique())\n",
    "\n",
    "recensioni_ft = {k: v for k, v in rece.items() if k in musei_presenti}\n",
    "\n",
    "# Salvo il JSON filtrato\n",
    "with open('json/review_museum_ft.json', 'w') as f:\n",
    "    json.dump(recensioni_ft, f, indent=4, ensure_ascii=False)\n",
    "\n",
    "print(f\"Numero di musei filtrati: {len(recensioni_ft)}\")"
   ]
  },
  {
   "cell_type": "markdown",
   "metadata": {},
   "source": [
    "<h1>Monumenti</h1>"
   ]
  },
  {
   "cell_type": "code",
   "execution_count": null,
   "metadata": {},
   "outputs": [
    {
     "name": "stdout",
     "output_type": "stream",
     "text": [
      "<class 'pandas.core.frame.DataFrame'>\n",
      "RangeIndex: 129685 entries, 0 to 129684\n",
      "Data columns (total 5 columns):\n",
      " #   Column       Non-Null Count   Dtype         \n",
      "---  ------       --------------   -----         \n",
      " 0   Monument     129685 non-null  object        \n",
      " 1   Username     129684 non-null  object        \n",
      " 2   Review       125582 non-null  object        \n",
      " 3   Rating       129685 non-null  object        \n",
      " 4   Review_Date  129685 non-null  datetime64[ns]\n",
      "dtypes: datetime64[ns](1), object(4)\n",
      "memory usage: 4.9+ MB\n"
     ]
    }
   ],
   "source": [
    "monum = pd.read_csv(\"original/Monumenti.csv\")\n",
    "\n",
    "#cambio Review_time con Review_Date, con date coerenti al range di date presenti nel dataset hotel\n",
    "\n",
    "start_date = pd.to_datetime('2015-08-04')  \n",
    "end_date = pd.to_datetime('2017-08-03')\n",
    "\n",
    "monum['Review_Date'] = pd.to_datetime(np.random.randint(start_date.value, end_date.value, size=len(monum)), origin='unix', unit='ns')\n",
    "monum['Review_Date'] = monum['Review_Date'].dt.floor('D')\n",
    "monum.drop(columns=['ReviewTime'], inplace=True)\n",
    "\n",
    "monum.info()"
   ]
  },
  {
   "cell_type": "code",
   "execution_count": 21,
   "metadata": {},
   "outputs": [],
   "source": [
    "#vedo un po' come sono indicati i luoghi\n",
    "#va bene usare countries anche qui, ho aggiunto Vatican City e London (a volte non è indicato uk insieme a Londra)\n",
    "#unique_monuments = monum['Monument'].unique()\n",
    "\n",
    "monum_ft = monum[monum['Monument'].str.contains(countries_regex, case=False, na=False)].copy()\n",
    "monum_ft.to_csv(\"cleaned/Monumenti_Choosen.csv\", index=False)\n"
   ]
  }
 ],
 "metadata": {
  "kernelspec": {
   "display_name": "LS",
   "language": "python",
   "name": "python3"
  },
  "language_info": {
   "codemirror_mode": {
    "name": "ipython",
    "version": 3
   },
   "file_extension": ".py",
   "mimetype": "text/x-python",
   "name": "python",
   "nbconvert_exporter": "python",
   "pygments_lexer": "ipython3",
   "version": "3.11.10"
  }
 },
 "nbformat": 4,
 "nbformat_minor": 2
}
